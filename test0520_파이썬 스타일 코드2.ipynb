{
 "cells": [
  {
   "cell_type": "markdown",
   "metadata": {},
   "source": [
    "# 01.람다함수 "
   ]
  },
  {
   "cell_type": "code",
   "execution_count": 2,
   "metadata": {},
   "outputs": [
    {
     "name": "stdout",
     "output_type": "stream",
     "text": [
      "5\n"
     ]
    }
   ],
   "source": [
    "def f(x,y):\n",
    "    return x+y\n",
    "\n",
    "print(f(1,4))\n",
    "\n"
   ]
  },
  {
   "cell_type": "code",
   "execution_count": 3,
   "metadata": {},
   "outputs": [
    {
     "name": "stdout",
     "output_type": "stream",
     "text": [
      "5\n",
      "9\n",
      "1.5\n"
     ]
    }
   ],
   "source": [
    "f = lambda x,y:x+y\n",
    "print(f(1,4))\n",
    "\n",
    "f = lambda x:x**2\n",
    "print(f(3))\n",
    "\n",
    "f = lambda x:x/2\n",
    "print(f(3))"
   ]
  },
  {
   "cell_type": "markdown",
   "metadata": {},
   "source": [
    "# 02.맵리듀스"
   ]
  },
  {
   "cell_type": "code",
   "execution_count": 4,
   "metadata": {},
   "outputs": [
    {
     "name": "stdout",
     "output_type": "stream",
     "text": [
      "[1, 4, 9, 16, 25]\n"
     ]
    }
   ],
   "source": [
    "ex = [1,2,3,4,5]\n",
    "f= lambda x: x**2 \n",
    "\n",
    "print(list(map(f,ex)))\n"
   ]
  },
  {
   "cell_type": "markdown",
   "metadata": {},
   "source": [
    "### map() 함수"
   ]
  },
  {
   "cell_type": "code",
   "execution_count": 8,
   "metadata": {},
   "outputs": [
    {
     "name": "stdout",
     "output_type": "stream",
     "text": [
      "1\n",
      "4\n",
      "9\n",
      "16\n",
      "25\n"
     ]
    }
   ],
   "source": [
    "ex = [1,2,3,4,5]\n",
    "f= lambda x : x**2\n",
    "for value in map (f,ex):\n",
    "    print(value)"
   ]
  },
  {
   "attachments": {},
   "cell_type": "markdown",
   "metadata": {},
   "source": [
    "\n"
   ]
  },
  {
   "cell_type": "code",
   "execution_count": 11,
   "metadata": {},
   "outputs": [
    {
     "data": {
      "text/plain": [
       "[1, 4, 9, 16, 25]"
      ]
     },
     "execution_count": 11,
     "metadata": {},
     "output_type": "execute_result"
    }
   ],
   "source": [
    "\n",
    "# map( ) 함수 : 리스트 컴프리헨션과의 비교\n",
    "ex = [1,2,3,4,5]\n",
    "[x ** 2 for x in ex]"
   ]
  },
  {
   "cell_type": "code",
   "execution_count": 12,
   "metadata": {},
   "outputs": [
    {
     "data": {
      "text/plain": [
       "[2, 4, 6, 8, 10]"
      ]
     },
     "execution_count": 12,
     "metadata": {},
     "output_type": "execute_result"
    }
   ],
   "source": [
    "# 한 개 이상의 시퀀스 자료형 데이터의 처리\n",
    "ex = [1,2,3,4,5]\n",
    "f = lambda x,y : x+y\n",
    "list (map(f,ex,ex))\n"
   ]
  },
  {
   "cell_type": "code",
   "execution_count": 13,
   "metadata": {},
   "outputs": [
    {
     "data": {
      "text/plain": [
       "[1, 4, 3, 16, 5]"
      ]
     },
     "execution_count": 13,
     "metadata": {},
     "output_type": "execute_result"
    }
   ],
   "source": [
    "#필터링 , map()\n",
    "\n",
    "list(map(lambda x:x **2 if x % 2 ==0 else x, ex))\n"
   ]
  },
  {
   "cell_type": "code",
   "execution_count": 14,
   "metadata": {},
   "outputs": [
    {
     "data": {
      "text/plain": [
       "[1, 4, 3, 16, 5]"
      ]
     },
     "execution_count": 14,
     "metadata": {},
     "output_type": "execute_result"
    }
   ],
   "source": [
    "# 리스트 컴프리 헨션\n",
    "\n",
    "[x**2 if x %2 ==0 else x for x in ex]"
   ]
  },
  {
   "cell_type": "markdown",
   "metadata": {},
   "source": [
    "### reduce() 함수"
   ]
  },
  {
   "cell_type": "code",
   "execution_count": 16,
   "metadata": {},
   "outputs": [
    {
     "name": "stdout",
     "output_type": "stream",
     "text": [
      "15\n"
     ]
    }
   ],
   "source": [
    "from functools import reduce\n",
    "print(reduce(lambda x,y : x+y,[1,2,3,4,5]))"
   ]
  },
  {
   "cell_type": "code",
   "execution_count": 17,
   "metadata": {},
   "outputs": [
    {
     "name": "stdout",
     "output_type": "stream",
     "text": [
      "15\n"
     ]
    }
   ],
   "source": [
    "x= 0 \n",
    "for y in [1,2,3,4,5]:\n",
    "    x+=y\n",
    "    \n",
    "print(x)"
   ]
  },
  {
   "cell_type": "markdown",
   "metadata": {},
   "source": [
    "# 03. 별표"
   ]
  },
  {
   "cell_type": "code",
   "execution_count": 18,
   "metadata": {},
   "outputs": [
    {
     "name": "stdout",
     "output_type": "stream",
     "text": [
      "('hello',)\n",
      "('hello', 'world')\n"
     ]
    }
   ],
   "source": [
    "def my_print(*contents):\n",
    "    print(contents)\n",
    "    \n",
    "my_print(\"hello\")\n",
    "my_print(\"hello\", \"world\")"
   ]
  },
  {
   "attachments": {},
   "cell_type": "markdown",
   "metadata": {},
   "source": [
    " 4번째 줄은 제대로 동작하지만 5번째 줄은 당연히 에러가 난다.\n",
    "my_print는 인자를 하나만 받는데, 두 개의 인자를 넘겨주었기 때문이다.\n",
    "\n",
    " 일단 인자의 갯수를 가변적으로 받으려면 다음과 같이 변경해주면 된다.\n",
    " 실행된 내용을 보니 5번째 줄이 에러 없이 동작하고,\n",
    "전달 인자는 튜플의 형태로 함수에 전달된다는 것을 알 수 있다\n",
    "(4번째 줄도 마찬가지로 튜플 형태로 출력되었다)\n",
    "\n"
   ]
  },
  {
   "cell_type": "code",
   "execution_count": 21,
   "metadata": {},
   "outputs": [
    {
     "name": "stdout",
     "output_type": "stream",
     "text": [
      "lee\n",
      "30\n",
      "seoul\n",
      "['010', 'xxxx', 'yyyy']\n"
     ]
    }
   ],
   "source": [
    "my_info = ['lee', '30','seoul','010','xxxx','yyyy']\n",
    "name, age, address,*unknowns = my_info\n",
    "\n",
    "print(name)\n",
    "print(age)\n",
    "print(address)\n",
    "print(unknowns)"
   ]
  },
  {
   "cell_type": "code",
   "execution_count": 22,
   "metadata": {},
   "outputs": [
    {
     "name": "stdout",
     "output_type": "stream",
     "text": [
      "1 (2, 3, 4, 5, 6)\n",
      "<class 'tuple'>\n"
     ]
    }
   ],
   "source": [
    "def asterisk_test(a,*args):\n",
    "    print(a,args)\n",
    "    print(type(args))\n",
    "    \n",
    "asterisk_test(1,2,3,4,5,6)"
   ]
  },
  {
   "cell_type": "code",
   "execution_count": 23,
   "metadata": {},
   "outputs": [
    {
     "name": "stdout",
     "output_type": "stream",
     "text": [
      "15\n",
      "55\n"
     ]
    }
   ],
   "source": [
    "def sum_all(*args):\n",
    "    result =0\n",
    "    for i in args:\n",
    "        result += i\n",
    "        \n",
    "    return result\n",
    "\n",
    "print(sum_all(1,2,3,4,5))\n",
    "print(sum_all(1,2,3,4,5,6,7,8,9,10))"
   ]
  },
  {
   "attachments": {},
   "cell_type": "markdown",
   "metadata": {},
   "source": [
    "### 가변인자 함수는 함수가 몇 개의 인자를 받을지 정해지지 않은 함수\n",
    "\n",
    "다음과 같이 입력받는 숫자의 개수와 상관없이 합을 구할 수 있는 함수를 만들 수 있음.\n",
    "\n",
    "결과가 각각 15와 55로 표시되는 것을 확인할 수 있음\n",
    "함수의 인자명은 args가 아닌 다른 것으로 변경 가능\n",
    "가변인자 함수에 리스트 변수 등을 전달할 때는 앞에 *를 추가해야 함\n",
    "\n"
   ]
  },
  {
   "attachments": {},
   "cell_type": "markdown",
   "metadata": {},
   "source": [
    "### 별표의 사용 (**를 사용하면 가변 매개변수는 딕셔너리)\n"
   ]
  },
  {
   "cell_type": "code",
   "execution_count": 25,
   "metadata": {},
   "outputs": [
    {
     "name": "stdout",
     "output_type": "stream",
     "text": [
      "1 {'b': 2, 'c': 3, 'd': 4, 'e': 5, 'f': 6}\n",
      "<class 'dict'>\n"
     ]
    }
   ],
   "source": [
    "def asterisk_test(a,**kargs):\n",
    "    print(a,kargs)\n",
    "    print(type(kargs))\n",
    "    \n",
    "asterisk_test(1,b=2,c=3,d=4,e=5,f=6)"
   ]
  },
  {
   "cell_type": "code",
   "execution_count": 26,
   "metadata": {},
   "outputs": [
    {
     "name": "stdout",
     "output_type": "stream",
     "text": [
      "1 2 3 4 5 6\n",
      "<class 'tuple'>\n"
     ]
    }
   ],
   "source": [
    "#별표의 언패킹 기능\n",
    "\n",
    "def asterisk_test(a,args):\n",
    "    print(a,*args)\n",
    "    print(type(args))\n",
    "    \n",
    "asterisk_test(1,(2,3,4,5,6))\n"
   ]
  },
  {
   "attachments": {},
   "cell_type": "markdown",
   "metadata": {},
   "source": [
    "별표는 여러 개의 데이터를 담는 리스트, 튜플, 딕셔너리와 같은 자료형에서는 해당 데이터를 언패킹하는 기능을 한다. \n",
    "\n",
    "위 코드에서 asterisk_test 함수는 a와 args, 2개의 변수를 매개변수로 받는다. 여기서 주의할 점은 args 앞에 별표가 붙지 않았다는 점이다. 따라서 정수형인 a와 튜플형인 args가 매개변수에 입력된다. 핵심은 print(a, *args) 코드이다. 사실 args는 함수에 하나의 변수로 들어갔기 때문에 일반적이라면 다음과 같이 출력되어야 한다.\n",
    "\n",
    "왜냐하면 튜플의 값은 하나의 변수이므로, 출력 시 괄호가 붙어 출력된다. 하지만 기대와 달리 1 2 3 4 5 6 형태로 출력되었다. 이는 일반적으로 print(a, b, c, d, e, f)처럼 각각의 변수를 하나씩 따로 입력했을 때 출력되는 형식이다. 이렇게 출력된 이유는 *args 때문이다.\n",
    "즉, args 변수 앞에 별표가 붙어 이러한 결과가 나온 것이다.\n",
    "이처럼 변수 앞의 별표는 해당변수를 언패킹한다. \n",
    "즉, 하나의 튜플 (2, 3, 4, 5, 6)이 아닌 각각의 변수로 존재하는 2, 3, 4, 5, 6으로 변경된다. \n",
    "\n"
   ]
  },
  {
   "cell_type": "code",
   "execution_count": 28,
   "metadata": {},
   "outputs": [
    {
     "name": "stdout",
     "output_type": "stream",
     "text": [
      "[1, 2] [3, 4] [5, 6]\n"
     ]
    }
   ],
   "source": [
    "a,b,c = ([1,2],[3,4],[5,6])\n",
    "print(a,b,c)"
   ]
  },
  {
   "cell_type": "markdown",
   "metadata": {},
   "source": [
    "# 04. 선형대수학"
   ]
  },
  {
   "cell_type": "code",
   "execution_count": 31,
   "metadata": {
    "collapsed": true
   },
   "outputs": [
    {
     "ename": "SyntaxError",
     "evalue": "invalid syntax (<ipython-input-31-64100e99ae0f>, line 1)",
     "output_type": "error",
     "traceback": [
      "\u001b[1;36m  File \u001b[1;32m\"<ipython-input-31-64100e99ae0f>\"\u001b[1;36m, line \u001b[1;32m1\u001b[0m\n\u001b[1;33m    vector _a = [1,2,10]\u001b[0m\n\u001b[1;37m            ^\u001b[0m\n\u001b[1;31mSyntaxError\u001b[0m\u001b[1;31m:\u001b[0m invalid syntax\n"
     ]
    }
   ],
   "source": [
    "vector _a = [1,2,10]   \n",
    "# 리스트로 표현한 경우 \n",
    "\n",
    "vector _b = (1,2,10)  \n",
    "# 튜플로 표현한 경우  \n",
    "\n",
    "vector _c = {'x':1, 'y':1,'z':10}   \n",
    "# 딕셔너리로 표현한 경우"
   ]
  },
  {
   "cell_type": "markdown",
   "metadata": {},
   "source": [
    "## 파이썬 스타일 코드로 표현한 벡터"
   ]
  },
  {
   "cell_type": "markdown",
   "metadata": {},
   "source": [
    "###  : 벡터의 연산"
   ]
  },
  {
   "cell_type": "code",
   "execution_count": 30,
   "metadata": {},
   "outputs": [
    {
     "name": "stdout",
     "output_type": "stream",
     "text": [
      "[7, 10]\n"
     ]
    }
   ],
   "source": [
    "u=[2,2]\n",
    "v=[2,3]\n",
    "z=[3,5]\n",
    "result = []\n",
    "\n",
    "for i in range (len(u)):\n",
    "    result.append(u[i]+v[i]+z[i])\n",
    "    \n",
    "print(result)"
   ]
  },
  {
   "cell_type": "code",
   "execution_count": 32,
   "metadata": {},
   "outputs": [
    {
     "name": "stdout",
     "output_type": "stream",
     "text": [
      "[7, 10]\n"
     ]
    }
   ],
   "source": [
    "u=[2,2]\n",
    "v=[2,3]\n",
    "z=[3,5]\n",
    "\n",
    "\n",
    "result = [sum(t) for t in zip(u,v,z)]\n",
    "\n",
    "print(result)"
   ]
  },
  {
   "attachments": {},
   "cell_type": "markdown",
   "metadata": {},
   "source": [
    "### : 별표를 사용한 함수화\n"
   ]
  },
  {
   "cell_type": "code",
   "execution_count": 35,
   "metadata": {},
   "outputs": [
    {
     "data": {
      "text/plain": [
       "[7, 10]"
      ]
     },
     "execution_count": 35,
     "metadata": {},
     "output_type": "execute_result"
    }
   ],
   "source": [
    "def vector_addition(*args):\n",
    "    return [sum(t) for t in zip(*args)]\n",
    "\n",
    "vector_addition(u,v,z)"
   ]
  },
  {
   "cell_type": "code",
   "execution_count": null,
   "metadata": {},
   "outputs": [],
   "source": []
  }
 ],
 "metadata": {
  "kernelspec": {
   "display_name": "Python 3",
   "language": "python",
   "name": "python3"
  },
  "language_info": {
   "codemirror_mode": {
    "name": "ipython",
    "version": 3
   },
   "file_extension": ".py",
   "mimetype": "text/x-python",
   "name": "python",
   "nbconvert_exporter": "python",
   "pygments_lexer": "ipython3",
   "version": "3.7.1"
  }
 },
 "nbformat": 4,
 "nbformat_minor": 2
}
