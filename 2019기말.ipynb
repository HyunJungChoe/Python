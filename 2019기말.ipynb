{
 "cells": [
  {
   "cell_type": "markdown",
   "metadata": {},
   "source": [
    "# 리스트 컴프리 핸션"
   ]
  },
  {
   "cell_type": "code",
   "execution_count": 4,
   "metadata": {},
   "outputs": [
    {
     "data": {
      "text/plain": [
       "[0, 2, 4, 6, 8]"
      ]
     },
     "execution_count": 4,
     "metadata": {},
     "output_type": "execute_result"
    }
   ],
   "source": [
    "result = [i for i in range(10) if i % 2 ==0]\n",
    "result"
   ]
  },
  {
   "cell_type": "markdown",
   "metadata": {},
   "source": [
    "### 필터링"
   ]
  },
  {
   "cell_type": "code",
   "execution_count": 8,
   "metadata": {},
   "outputs": [
    {
     "data": {
      "text/plain": [
       "[0, 1, 2, 3, 4, 5, 6, 7, 8, 9]"
      ]
     },
     "execution_count": 8,
     "metadata": {},
     "output_type": "execute_result"
    }
   ],
   "source": [
    "result = [i for i in range(10)]\n",
    "result"
   ]
  },
  {
   "cell_type": "markdown",
   "metadata": {},
   "source": [
    "###  중첩 반복문 "
   ]
  },
  {
   "cell_type": "code",
   "execution_count": 17,
   "metadata": {},
   "outputs": [
    {
     "data": {
      "text/plain": [
       "['hw',\n",
       " 'ho',\n",
       " 'hr',\n",
       " 'hl',\n",
       " 'hd',\n",
       " 'ew',\n",
       " 'eo',\n",
       " 'er',\n",
       " 'el',\n",
       " 'ed',\n",
       " 'lw',\n",
       " 'lo',\n",
       " 'lr',\n",
       " 'll',\n",
       " 'ld',\n",
       " 'lw',\n",
       " 'lo',\n",
       " 'lr',\n",
       " 'll',\n",
       " 'ld',\n",
       " 'ow',\n",
       " 'oo',\n",
       " 'or',\n",
       " 'ol',\n",
       " 'od']"
      ]
     },
     "execution_count": 17,
     "metadata": {},
     "output_type": "execute_result"
    }
   ],
   "source": [
    "A = \"hello\"\n",
    "B = \"world\"\n",
    "result = [i + j for i in A for j in B ]\n",
    "\n",
    "result"
   ]
  },
  {
   "cell_type": "markdown",
   "metadata": {},
   "source": [
    "### 이차원 리스트  "
   ]
  },
  {
   "cell_type": "code",
   "execution_count": null,
   "metadata": {},
   "outputs": [],
   "source": []
  },
  {
   "cell_type": "code",
   "execution_count": null,
   "metadata": {},
   "outputs": [],
   "source": []
  },
  {
   "cell_type": "markdown",
   "metadata": {},
   "source": [
    "# 람다"
   ]
  },
  {
   "cell_type": "code",
   "execution_count": 7,
   "metadata": {},
   "outputs": [
    {
     "name": "stdout",
     "output_type": "stream",
     "text": [
      "5\n"
     ]
    }
   ],
   "source": [
    "f = lambda x,y : x+y\n",
    "print(f(1,4))\n",
    "\n",
    "## 별도의 return 이나 def를 작성하지 않는다. \n"
   ]
  },
  {
   "cell_type": "markdown",
   "metadata": {},
   "source": [
    "# 별표"
   ]
  },
  {
   "cell_type": "code",
   "execution_count": 18,
   "metadata": {},
   "outputs": [
    {
     "name": "stdout",
     "output_type": "stream",
     "text": [
      "('hello', 'world')\n"
     ]
    }
   ],
   "source": [
    "## 가변인자 -> 수 제한 없이 받을 수 있음 \n",
    "def my_print(*con):\n",
    "    print(con)\n",
    "my_print(\"hello\",\"world\")"
   ]
  },
  {
   "cell_type": "code",
   "execution_count": 19,
   "metadata": {},
   "outputs": [
    {
     "name": "stdout",
     "output_type": "stream",
     "text": [
      "1 (2, 3, 4, 5, 6, 7)\n"
     ]
    }
   ],
   "source": [
    "def ask_test(a,*args):\n",
    "    print(a,args)\n",
    "    \n",
    "ask_test(1,2,3,4,5,6,7)"
   ]
  },
  {
   "cell_type": "markdown",
   "metadata": {},
   "source": [
    "# 클래스"
   ]
  },
  {
   "cell_type": "code",
   "execution_count": 26,
   "metadata": {},
   "outputs": [],
   "source": [
    "class BC:\n",
    "    def __init__(self, name, email, addr):\n",
    "        self.name= name\n",
    "        self.email = email\n",
    "        self.addr = addr\n",
    "        \n",
    "    def print_info(self):\n",
    "        print(\"---------------\")\n",
    "        print(\"Name : \", self.name)\n",
    "        print(\"email : \", self.email)\n",
    "        print(\"addr : \", self.addr)\n",
    "        print(\"---------------\")        \n",
    "\n",
    "### 인스턴스 생성시 바로 전달해야 생성된다. "
   ]
  },
  {
   "cell_type": "code",
   "execution_count": 27,
   "metadata": {},
   "outputs": [],
   "source": [
    "mem1 = BC(\"현정\",\"네이버\",\"한국\")"
   ]
  },
  {
   "cell_type": "code",
   "execution_count": 28,
   "metadata": {},
   "outputs": [
    {
     "name": "stdout",
     "output_type": "stream",
     "text": [
      "---------------\n",
      "Name :  현정\n",
      "email :  네이버\n",
      "addr :  한국\n",
      "---------------\n"
     ]
    }
   ],
   "source": [
    "mem1.print_info()"
   ]
  },
  {
   "cell_type": "markdown",
   "metadata": {},
   "source": [
    "# 상속 ★"
   ]
  },
  {
   "cell_type": "code",
   "execution_count": 33,
   "metadata": {},
   "outputs": [
    {
     "name": "stdout",
     "output_type": "stream",
     "text": [
      "sing a song\n",
      "dance\n"
     ]
    }
   ],
   "source": [
    "class Parent:\n",
    "    def can_sing(self):\n",
    "        print(\"sing a song\")\n",
    "              \n",
    "class child(Parent):\n",
    "     def can_dance(self):\n",
    "            print(\"dance\")\n",
    "              \n",
    "child1 = child()\n",
    "child1.can_sing()              \n",
    "child1.can_dance()              "
   ]
  },
  {
   "cell_type": "markdown",
   "metadata": {},
   "source": [
    "기존함수를 사용하면서 새로운 내용을 추가하기 위해서는 자식 클래스에 __init__() 함수를 생성사면서  super.__init__(매개변수)를 사용해야 한다.\n",
    "\n",
    "여기서 super()는 부모 클래스를 가리킨다. 즉, 브모 클래스의 __init__()함수를 그대로 사용한다는 뜻이다.\n",
    "\n",
    "함수의 재정의를 오버라이딩이라고 한다.\n"
   ]
  },
  {
   "cell_type": "code",
   "execution_count": null,
   "metadata": {},
   "outputs": [
    {
     "name": "stdout",
     "output_type": "stream",
     "text": [
      "도형종류(1.사각형, 2.원 3.조회 4.종료)?3\n",
      "도형종류(1.사각형, 2.원 3.조회 4.종료)?1\n",
      "x=?2\n",
      "y=?2\n",
      "w=?2\n",
      "h=?2\n",
      "도형종류(1.사각형, 2.원 3.조회 4.종료)?3\n",
      "사각형 2 2 2 2\n",
      "도형종류(1.사각형, 2.원 3.조회 4.종료)?2\n",
      "x=?2\n",
      "y=?2\n",
      "r=?2\n",
      "도형종류(1.사각형, 2.원 3.조회 4.종료)?3\n",
      "사각형 2 2 2 2\n",
      "원 2 2 2\n"
     ]
    }
   ],
   "source": [
    "## 파이썬 상속과 다형성\n",
    "\n",
    "class Point:\n",
    "    def __init__(self):\n",
    "        self.x=int(input('x=?'))\n",
    "        self.y=int(input('y=?'))\n",
    "    def disp(self):\n",
    "        pass\n",
    "\n",
    "class Circle(Point):\n",
    "    def __init__(self):\n",
    "        super().__init__()\n",
    "        self.r=int(input('r=?'))\n",
    "    def disp(self):\n",
    "        print('원',self.x,self.y,self.r)\n",
    "\n",
    "class Rect(Point):\n",
    "    def __init__(self):\n",
    "        super().__init__()\n",
    "        self.w=int(input('w=?'))\n",
    "        self.h=int(input('h=?'))\n",
    "    def disp(self):\n",
    "        print('사각형',self.x,self.y,self.w,self.h)\n",
    "\n",
    "def main():\n",
    "    li=list()\n",
    "    while True:\n",
    "        s=input('도형종류(1.사각형, 2.원 3.조회 4.종료)?')\n",
    "        if s=='1':\n",
    "            li.append(Rect())\n",
    "        elif s=='2':\n",
    "            li.append(Circle())\n",
    "        elif s=='3':\n",
    "            for i in li:\n",
    "                i.disp()\n",
    "        elif s=='4':\n",
    "            break\n",
    "        else:\n",
    "            print('잘못입력 하셨습니다.')\n",
    "    \n",
    "    print('프로그램을 종료합니다.')\n",
    "\n",
    "main()\n"
   ]
  },
  {
   "cell_type": "code",
   "execution_count": null,
   "metadata": {},
   "outputs": [],
   "source": []
  }
 ],
 "metadata": {
  "kernelspec": {
   "display_name": "Python 3",
   "language": "python",
   "name": "python3"
  },
  "language_info": {
   "codemirror_mode": {
    "name": "ipython",
    "version": 3
   },
   "file_extension": ".py",
   "mimetype": "text/x-python",
   "name": "python",
   "nbconvert_exporter": "python",
   "pygments_lexer": "ipython3",
   "version": "3.6.4"
  }
 },
 "nbformat": 4,
 "nbformat_minor": 2
}
